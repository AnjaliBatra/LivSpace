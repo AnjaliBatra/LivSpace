{
 "cells": [
  {
   "cell_type": "code",
   "execution_count": 1,
   "metadata": {},
   "outputs": [],
   "source": [
    "import pandas as pd"
   ]
  },
  {
   "cell_type": "code",
   "execution_count": 13,
   "metadata": {},
   "outputs": [],
   "source": [
    "data = pd.read_csv(\"mouthsutComments.csv\", encoding =  \"ISO-8859-1\")"
   ]
  },
  {
   "cell_type": "code",
   "execution_count": 14,
   "metadata": {
    "scrolled": true
   },
   "outputs": [
    {
     "data": {
      "text/html": [
       "<div>\n",
       "<style scoped>\n",
       "    .dataframe tbody tr th:only-of-type {\n",
       "        vertical-align: middle;\n",
       "    }\n",
       "\n",
       "    .dataframe tbody tr th {\n",
       "        vertical-align: top;\n",
       "    }\n",
       "\n",
       "    .dataframe thead th {\n",
       "        text-align: right;\n",
       "    }\n",
       "</style>\n",
       "<table border=\"1\" class=\"dataframe\">\n",
       "  <thead>\n",
       "    <tr style=\"text-align: right;\">\n",
       "      <th></th>\n",
       "      <th>Comments</th>\n",
       "    </tr>\n",
       "  </thead>\n",
       "  <tbody>\n",
       "    <tr>\n",
       "      <th>0</th>\n",
       "      <td>Very happy with the designing aspect. The site...</td>\n",
       "    </tr>\n",
       "    <tr>\n",
       "      <th>1</th>\n",
       "      <td>My experience with Livspace has been excellent...</td>\n",
       "    </tr>\n",
       "    <tr>\n",
       "      <th>2</th>\n",
       "      <td>For My independent house at Horamavu , the int...</td>\n",
       "    </tr>\n",
       "    <tr>\n",
       "      <th>3</th>\n",
       "      <td>I recommend livspace for their good service. G...</td>\n",
       "    </tr>\n",
       "    <tr>\n",
       "      <th>4</th>\n",
       "      <td>The new team with Sahil Siddiqui and Shailesh ...</td>\n",
       "    </tr>\n",
       "  </tbody>\n",
       "</table>\n",
       "</div>"
      ],
      "text/plain": [
       "                                            Comments\n",
       "0  Very happy with the designing aspect. The site...\n",
       "1  My experience with Livspace has been excellent...\n",
       "2  For My independent house at Horamavu , the int...\n",
       "3  I recommend livspace for their good service. G...\n",
       "4  The new team with Sahil Siddiqui and Shailesh ..."
      ]
     },
     "execution_count": 14,
     "metadata": {},
     "output_type": "execute_result"
    }
   ],
   "source": [
    "data.head()"
   ]
  },
  {
   "cell_type": "code",
   "execution_count": 10,
   "metadata": {},
   "outputs": [],
   "source": [
    "from nltk.corpus import stopwords\n",
    "import string\n",
    "import re"
   ]
  },
  {
   "cell_type": "code",
   "execution_count": 34,
   "metadata": {},
   "outputs": [],
   "source": [
    "from collections import Counter\n"
   ]
  },
  {
   "cell_type": "code",
   "execution_count": 45,
   "metadata": {},
   "outputs": [],
   "source": [
    "def preprocessing(text):\n",
    "    # split into tokens by white space\n",
    "    tokens = text.split()\n",
    "    # prepare regex for char filtering\n",
    "    re_punc = re.compile('[%s]' % re.escape(string.punctuation))\n",
    "    # remove punctuation from each word\n",
    "    tokens = [re_punc.sub('', w) for w in tokens]\n",
    "    # remove remaining tokens that are not alphabetic\n",
    "    tokens = [word for word in tokens if word.isalpha()]\n",
    "    # filter out stop words\n",
    "    stop_words = set(stopwords.words('english'))\n",
    "    tokens = [w for w in tokens if not w in stop_words]\n",
    "    # filter out short tokens\n",
    "    tokens = [word for word in tokens if len(word) > 1]\n",
    "    vocab.update(tokens)\n",
    "    return tokens\n",
    "    "
   ]
  },
  {
   "cell_type": "code",
   "execution_count": 44,
   "metadata": {},
   "outputs": [],
   "source": [
    "# define vocab\n",
    "vocab = Counter()"
   ]
  },
  {
   "cell_type": "code",
   "execution_count": 46,
   "metadata": {},
   "outputs": [],
   "source": [
    "tokens = data[\"Comments\"].apply(preprocessing)"
   ]
  },
  {
   "cell_type": "code",
   "execution_count": 47,
   "metadata": {},
   "outputs": [
    {
     "data": {
      "text/plain": [
       "0    [Very, happy, designing, aspect, The, site, ex...\n",
       "1    [My, experience, Livspace, excellent, We, got,...\n",
       "2    [For, My, independent, house, Horamavu, interi...\n",
       "3    [recommend, livspace, good, service, Good, coo...\n",
       "4    [The, new, team, Sahil, Siddiqui, Shailesh, as...\n",
       "Name: Comments, dtype: object"
      ]
     },
     "execution_count": 47,
     "metadata": {},
     "output_type": "execute_result"
    }
   ],
   "source": [
    "tokens.head()"
   ]
  },
  {
   "cell_type": "code",
   "execution_count": 48,
   "metadata": {},
   "outputs": [
    {
     "name": "stdout",
     "output_type": "stream",
     "text": [
      "1678\n"
     ]
    }
   ],
   "source": [
    "# print the size of the vocab\n",
    "print(len(vocab))\n"
   ]
  },
  {
   "cell_type": "code",
   "execution_count": 49,
   "metadata": {},
   "outputs": [
    {
     "name": "stdout",
     "output_type": "stream",
     "text": [
      "[('Livspace', 90), ('work', 89), ('team', 83), ('project', 75), ('good', 63), ('done', 56), ('The', 52), ('design', 50), ('We', 45), ('experience', 43), ('execution', 40), ('us', 39), ('time', 38), ('They', 37), ('livspace', 34), ('great', 32), ('job', 32), ('designer', 31), ('got', 30), ('home', 28), ('interior', 27), ('well', 26), ('also', 26), ('quality', 25), ('kitchen', 25), ('interiors', 24), ('get', 22), ('always', 22), ('house', 21), ('She', 21), ('made', 20), ('would', 20), ('like', 20), ('designs', 20), ('service', 19), ('He', 19), ('best', 18), ('care', 18), ('happy', 17), ('recommend', 17), ('delivered', 17), ('took', 17), ('really', 17), ('manager', 16), ('new', 16), ('helped', 16), ('site', 15), ('sure', 15), ('Thanks', 15), ('one', 15)]\n"
     ]
    }
   ],
   "source": [
    "# print the top words in the vocab\n",
    "print(vocab.most_common(50))\n"
   ]
  },
  {
   "cell_type": "code",
   "execution_count": 50,
   "metadata": {},
   "outputs": [
    {
     "name": "stdout",
     "output_type": "stream",
     "text": [
      "212\n"
     ]
    }
   ],
   "source": [
    "# keep tokens with > 5 occurrence\n",
    "min_occurrence = 5\n",
    "most_common_tokens = [k for k,c in vocab.items() if c >= min_occurrence]\n",
    "print(len(most_common_tokens))"
   ]
  },
  {
   "cell_type": "code",
   "execution_count": 51,
   "metadata": {},
   "outputs": [
    {
     "name": "stdout",
     "output_type": "stream",
     "text": [
      "['Very', 'happy', 'designing', 'The', 'site', 'execution', 'team', 'need', 'Overall', 'service', 'us', 'good', 'quality', 'used', 'experience', 'definitely', 'recommend', 'My', 'Livspace', 'excellent', 'We', 'got', 'Kitchen', 'done', 'designer', 'working', 'understanding', 'multiple', 'made', 'every', 'well', 'handled', 'patience', 'design', 'Project', 'manager', 'even', 'give', 'best', 'finishes', 'budget', 'project', 'completed', 'house', 'interior', 'services', 'provided', 'Good', 'completion', 'Manager', 'taken', 'care', 'problems', 'without', 'great', 'livspace', 'coordination', 'Their', 'delivery', 'time', 'part', 'new', 'Sahil', 'assigned', 'complete', 'job', 'They', 'promised', 'due', 'sure', 'Thanks', 'right', 'In', 'get', 'one', 'go', 'drawings', 'work', 'worth', 'Excellent', 'flat', 'life', 'making', 'everything', 'went', 'Our', 'professional', 'customer', 'issues', 'modular', 'would', 'Great', 'helped', 'kitchen', 'delivered', 'apartment', 'needed', 'lot', 'civil', 'interiors', 'And', 'furniture', 'terms', 'different', 'things', 'suggested', 'vendor', 'better', 'thought', 'installation', 'like', 'But', 'You', 'take', 'started', 'He', 'way', 'showed', 'dedication', 'knowledge', 'also', 'people', 'much', 'LivSpace', 'vendors', 'home', 'entire', 'cooperative', 'patient', 'handover', 'executed', 'per', 'beautiful', 'wardrobe', 'She', 'always', 'color', 'designs', 'products', 'It', 'following', 'Designer', 'help', 'ensured', 'requirement', 'met', 'wardrobes', 'livespace', 'approach', 'Livespace', 'company', 'head', 'months', 'product', 'look', 'feel', 'amazing', 'wonderful', 'day', 'took', 'make', 'thank', 'helpful', 'Amit', 'appreciate', 'finish', 'final', 'providing', 'given', 'really', 'days', 'planned', 'room', 'getting', 'thing', 'After', 'process', 'came', 'efforts', 'space', 'mind', 'till', 'satisfaction', 'whenever', 'whole', 'Mr', 'thanks', 'concerns', 'Bangalore', 'ideas', 'giving', 'end', 'sales', 'installed', 'full', 'From', 'say', 'available', 'dedicated', 'requirements', 'Karan', 'week', 'within', 'Liv', 'support', 'gave', 'images', 'Waheda', 'material', 'understood', 'plan', 'Ashok']\n"
     ]
    }
   ],
   "source": [
    "print(most_common_tokens)"
   ]
  },
  {
   "cell_type": "code",
   "execution_count": 53,
   "metadata": {},
   "outputs": [],
   "source": [
    "# save list to file\n",
    "def save_list(lines, filename):\n",
    "    data = '\\n'.join(lines)\n",
    "    file = open(filename, 'w')\n",
    "    file.write(data)\n",
    "    file.close()\n"
   ]
  },
  {
   "cell_type": "code",
   "execution_count": 54,
   "metadata": {},
   "outputs": [],
   "source": [
    "# save tokens to a vocabulary file\n",
    "save_list(most_common_tokens, 'vocab.txt')"
   ]
  }
 ],
 "metadata": {
  "kernelspec": {
   "display_name": "Python 3",
   "language": "python",
   "name": "python3"
  },
  "language_info": {
   "codemirror_mode": {
    "name": "ipython",
    "version": 3
   },
   "file_extension": ".py",
   "mimetype": "text/x-python",
   "name": "python",
   "nbconvert_exporter": "python",
   "pygments_lexer": "ipython3",
   "version": "3.7.2"
  }
 },
 "nbformat": 4,
 "nbformat_minor": 2
}
